{
  "nbformat": 4,
  "nbformat_minor": 0,
  "metadata": {
    "colab": {
      "provenance": []
    },
    "kernelspec": {
      "name": "python3",
      "display_name": "Python 3"
    },
    "language_info": {
      "name": "python"
    }
  },
  "cells": [
    {
      "cell_type": "code",
      "source": [
        "\n",
        "import pandas as pd\n",
        "import numpy as np\n",
        "\n",
        "\n",
        "random_seed = 42\n",
        "np.random.seed(random_seed)\n",
        "\n",
        "\n",
        "df = pd.read_csv('/content/FastagFraudDetection.csv')\n",
        "\n",
        "\n",
        "print(\"First few rows of the dataset:\")\n",
        "print(df.head())\n",
        "\n",
        "\n",
        "print(\"\\nDataset Info:\")\n",
        "df.info()\n",
        "\n",
        "\n",
        "print(\"\\nDataset Description:\")\n",
        "print(df.describe())\n",
        "\n",
        "\n",
        "df = df.drop(columns=['Transaction_ID', 'Timestamp', 'FastagID', 'TollBoothID'])\n",
        "\n",
        "\n",
        "categorical_columns = ['Vehicle_Type', 'Lane_Type', 'Geographical_Location', 'Vehicle_Plate_Number']\n",
        "numerical_columns = df.select_dtypes(include=['float64', 'int64']).columns.tolist()\n"
      ],
      "metadata": {
        "colab": {
          "base_uri": "https://localhost:8080/"
        },
        "id": "ABuOGlpYD4x0",
        "outputId": "0293014b-8cdf-4f70-c8e6-d62691ba2f3d"
      },
      "execution_count": 2,
      "outputs": [
        {
          "output_type": "stream",
          "name": "stdout",
          "text": [
            "First few rows of the dataset:\n",
            "   Transaction_ID       Timestamp Vehicle_Type         FastagID TollBoothID  \\\n",
            "0               1  1/6/2023 11:20         Bus   FTG-001-ABC-121       A-101   \n",
            "1               2  1/7/2023 14:55          Car  FTG-002-XYZ-451       B-102   \n",
            "2               3  1/8/2023 18:25   Motorcycle              NaN       D-104   \n",
            "3               4   1/9/2023 2:05        Truck  FTG-044-LMN-322       C-103   \n",
            "4               5  1/10/2023 6:35          Van  FTG-505-DEF-652       B-102   \n",
            "\n",
            "  Lane_Type Vehicle_Dimensions  Transaction_Amount  Amount_paid  \\\n",
            "0   Express              Large                 350          120   \n",
            "1   Regular              Small                 120          100   \n",
            "2   Regular              Small                   0            0   \n",
            "3   Regular              Large                 350          120   \n",
            "4   Express             Medium                 140          100   \n",
            "\n",
            "                   Geographical_Location  Vehicle_Speed Vehicle_Plate_Number  \\\n",
            "0  13.059816123454882, 77.77068662374292             65           KA11AB1234   \n",
            "1  13.059816123454882, 77.77068662374292             78           KA66CD5678   \n",
            "2  13.059816123454882, 77.77068662374292             53           KA88EF9012   \n",
            "3  13.059816123454882, 77.77068662374292             92           KA11GH3456   \n",
            "4  13.059816123454882, 77.77068662374292             60           KA44IJ6789   \n",
            "\n",
            "  Fraud_indicator  \n",
            "0           Fraud  \n",
            "1           Fraud  \n",
            "2       Not Fraud  \n",
            "3           Fraud  \n",
            "4           Fraud  \n",
            "\n",
            "Dataset Info:\n",
            "<class 'pandas.core.frame.DataFrame'>\n",
            "RangeIndex: 5000 entries, 0 to 4999\n",
            "Data columns (total 13 columns):\n",
            " #   Column                 Non-Null Count  Dtype \n",
            "---  ------                 --------------  ----- \n",
            " 0   Transaction_ID         5000 non-null   int64 \n",
            " 1   Timestamp              5000 non-null   object\n",
            " 2   Vehicle_Type           5000 non-null   object\n",
            " 3   FastagID               4451 non-null   object\n",
            " 4   TollBoothID            5000 non-null   object\n",
            " 5   Lane_Type              5000 non-null   object\n",
            " 6   Vehicle_Dimensions     5000 non-null   object\n",
            " 7   Transaction_Amount     5000 non-null   int64 \n",
            " 8   Amount_paid            5000 non-null   int64 \n",
            " 9   Geographical_Location  5000 non-null   object\n",
            " 10  Vehicle_Speed          5000 non-null   int64 \n",
            " 11  Vehicle_Plate_Number   5000 non-null   object\n",
            " 12  Fraud_indicator        5000 non-null   object\n",
            "dtypes: int64(4), object(9)\n",
            "memory usage: 507.9+ KB\n",
            "\n",
            "Dataset Description:\n",
            "       Transaction_ID  Transaction_Amount  Amount_paid  Vehicle_Speed\n",
            "count     5000.000000          5000.00000  5000.000000    5000.000000\n",
            "mean      2500.500000           161.06200   141.261000      67.851200\n",
            "std       1443.520003           112.44995   106.480996      16.597547\n",
            "min          1.000000             0.00000     0.000000      10.000000\n",
            "25%       1250.750000           100.00000    90.000000      54.000000\n",
            "50%       2500.500000           130.00000   120.000000      67.000000\n",
            "75%       3750.250000           290.00000   160.000000      82.000000\n",
            "max       5000.000000           350.00000   350.000000     118.000000\n"
          ]
        }
      ]
    },
    {
      "cell_type": "code",
      "source": [
        "\n",
        "df[numerical_columns] = df[numerical_columns].fillna(df[numerical_columns].mean())\n",
        "\n",
        "\n",
        "for col in categorical_columns:\n",
        "    df[col] = df[col].fillna(df[col].mode()[0])\n",
        "\n",
        "\n",
        "print(\"\\nMissing values after handling:\")\n",
        "print(df.isnull().sum())"
      ],
      "metadata": {
        "colab": {
          "base_uri": "https://localhost:8080/"
        },
        "id": "oEC0JA90HgS8",
        "outputId": "9ec92d33-65ab-438b-d76b-728e097502aa"
      },
      "execution_count": 3,
      "outputs": [
        {
          "output_type": "stream",
          "name": "stdout",
          "text": [
            "\n",
            "Missing values after handling:\n",
            "Vehicle_Type             0\n",
            "Lane_Type                0\n",
            "Vehicle_Dimensions       0\n",
            "Transaction_Amount       0\n",
            "Amount_paid              0\n",
            "Geographical_Location    0\n",
            "Vehicle_Speed            0\n",
            "Vehicle_Plate_Number     0\n",
            "Fraud_indicator          0\n",
            "dtype: int64\n"
          ]
        }
      ]
    },
    {
      "cell_type": "code",
      "source": [
        "\n",
        "from sklearn.preprocessing import OneHotEncoder, StandardScaler\n",
        "from sklearn.compose import ColumnTransformer\n",
        "from sklearn.model_selection import train_test_split\n",
        "from sklearn.pipeline import Pipeline\n",
        "from sklearn.metrics import classification_report, accuracy_score, precision_score, recall_score, f1_score\n",
        "\n",
        "\n",
        "X = df.drop(columns=['Fraud_indicator'])\n",
        "y = df['Fraud_indicator']\n",
        "\n",
        "\n",
        "numerical_transformer = StandardScaler()\n",
        "\n",
        "\n",
        "categorical_transformer = OneHotEncoder(handle_unknown='ignore')\n",
        "\n",
        "\n",
        "preprocessor = ColumnTransformer(\n",
        "    transformers=[\n",
        "        ('num', numerical_transformer, numerical_columns),\n",
        "        ('cat', categorical_transformer, categorical_columns)\n",
        "    ])"
      ],
      "metadata": {
        "id": "kq-ETxviHkFR"
      },
      "execution_count": 4,
      "outputs": []
    },
    {
      "cell_type": "code",
      "source": [
        "\n",
        "X_train, X_test, y_train, y_test = train_test_split(X, y, test_size=0.2, random_state=random_seed)\n",
        "\n",
        "\n",
        "from sklearn.ensemble import RandomForestClassifier, GradientBoostingClassifier\n",
        "from sklearn.svm import SVC\n",
        "from sklearn.linear_model import LogisticRegression\n",
        "from sklearn.neural_network import MLPClassifier\n",
        "\n",
        "models = {\n",
        "    'Random Forest': RandomForestClassifier(random_state=random_seed),\n",
        "    'Gradient Boosting': GradientBoostingClassifier(random_state=random_seed),\n",
        "    'Support Vector Machine': SVC(random_state=random_seed),\n",
        "    'Logistic Regression': LogisticRegression(random_state=random_seed),\n",
        "    'Neural Network': MLPClassifier(random_state=random_seed)\n",
        "}\n",
        "\n",
        "\n",
        "model_performance = {}\n",
        "\n",
        "for name, model in models.items():\n",
        "    print(f\"\\n{name}:\")\n",
        "\n",
        "\n",
        "    clf = Pipeline(steps=[('preprocessor', preprocessor),\n",
        "                          ('classifier', model)])\n",
        "\n",
        "    clf.fit(X_train, y_train)\n",
        "    y_pred = clf.predict(X_test)\n",
        "\n",
        "    accuracy = accuracy_score(y_test, y_pred)\n",
        "    precision = precision_score(y_test, y_pred, pos_label='Fraud')\n",
        "    recall = recall_score(y_test, y_pred, pos_label='Fraud')\n",
        "    f1 = f1_score(y_test, y_pred, pos_label='Fraud')\n",
        "\n",
        "    print(f'Accuracy: {accuracy}')\n",
        "    print(f'Precision: {precision}')\n",
        "    print(f'Recall: {recall}')\n",
        "    print(f'F1 Score: {f1}')\n",
        "    print(\"\\nClassification Report:\")\n",
        "    print(classification_report(y_test, y_pred))\n",
        "\n",
        "    model_performance[name] = {\n",
        "        'model': clf,\n",
        "        'accuracy': accuracy,\n",
        "        'precision': precision,\n",
        "        'recall': recall,\n",
        "        'f1': f1\n",
        "    }\n"
      ],
      "metadata": {
        "colab": {
          "base_uri": "https://localhost:8080/"
        },
        "id": "Xfzj0C1tHn1b",
        "outputId": "15209fb7-84e3-43c0-9d5d-134c3d9ea605"
      },
      "execution_count": 5,
      "outputs": [
        {
          "output_type": "stream",
          "name": "stdout",
          "text": [
            "\n",
            "Random Forest:\n",
            "Accuracy: 0.98\n",
            "Precision: 1.0\n",
            "Recall: 0.9078341013824884\n",
            "F1 Score: 0.9516908212560387\n",
            "\n",
            "Classification Report:\n",
            "              precision    recall  f1-score   support\n",
            "\n",
            "       Fraud       1.00      0.91      0.95       217\n",
            "   Not Fraud       0.98      1.00      0.99       783\n",
            "\n",
            "    accuracy                           0.98      1000\n",
            "   macro avg       0.99      0.95      0.97      1000\n",
            "weighted avg       0.98      0.98      0.98      1000\n",
            "\n",
            "\n",
            "Gradient Boosting:\n",
            "Accuracy: 0.966\n",
            "Precision: 1.0\n",
            "Recall: 0.8433179723502304\n",
            "F1 Score: 0.915\n",
            "\n",
            "Classification Report:\n",
            "              precision    recall  f1-score   support\n",
            "\n",
            "       Fraud       1.00      0.84      0.92       217\n",
            "   Not Fraud       0.96      1.00      0.98       783\n",
            "\n",
            "    accuracy                           0.97      1000\n",
            "   macro avg       0.98      0.92      0.95      1000\n",
            "weighted avg       0.97      0.97      0.96      1000\n",
            "\n",
            "\n",
            "Support Vector Machine:\n",
            "Accuracy: 0.972\n",
            "Precision: 1.0\n",
            "Recall: 0.8709677419354839\n",
            "F1 Score: 0.9310344827586207\n",
            "\n",
            "Classification Report:\n",
            "              precision    recall  f1-score   support\n",
            "\n",
            "       Fraud       1.00      0.87      0.93       217\n",
            "   Not Fraud       0.97      1.00      0.98       783\n",
            "\n",
            "    accuracy                           0.97      1000\n",
            "   macro avg       0.98      0.94      0.96      1000\n",
            "weighted avg       0.97      0.97      0.97      1000\n",
            "\n",
            "\n",
            "Logistic Regression:\n",
            "Accuracy: 0.956\n",
            "Precision: 1.0\n",
            "Recall: 0.7972350230414746\n",
            "F1 Score: 0.8871794871794871\n",
            "\n",
            "Classification Report:\n",
            "              precision    recall  f1-score   support\n",
            "\n",
            "       Fraud       1.00      0.80      0.89       217\n",
            "   Not Fraud       0.95      1.00      0.97       783\n",
            "\n",
            "    accuracy                           0.96      1000\n",
            "   macro avg       0.97      0.90      0.93      1000\n",
            "weighted avg       0.96      0.96      0.95      1000\n",
            "\n",
            "\n",
            "Neural Network:\n",
            "Accuracy: 0.961\n",
            "Precision: 1.0\n",
            "Recall: 0.8202764976958525\n",
            "F1 Score: 0.9012658227848102\n",
            "\n",
            "Classification Report:\n",
            "              precision    recall  f1-score   support\n",
            "\n",
            "       Fraud       1.00      0.82      0.90       217\n",
            "   Not Fraud       0.95      1.00      0.98       783\n",
            "\n",
            "    accuracy                           0.96      1000\n",
            "   macro avg       0.98      0.91      0.94      1000\n",
            "weighted avg       0.96      0.96      0.96      1000\n",
            "\n"
          ]
        }
      ]
    },
    {
      "cell_type": "code",
      "source": [
        "\n",
        "best_model_name = max(model_performance, key=lambda x: model_performance[x]['f1'])\n",
        "best_model = model_performance[best_model_name]['model']\n",
        "print(f\"\\nBest Model: {best_model_name} with F1 Score: {model_performance[best_model_name]['f1']}\")\n",
        "\n"
      ],
      "metadata": {
        "colab": {
          "base_uri": "https://localhost:8080/"
        },
        "id": "gx6RGJe_I1LT",
        "outputId": "4bd4c11f-1053-4b8c-cdb8-d80a00897b50"
      },
      "execution_count": 6,
      "outputs": [
        {
          "output_type": "stream",
          "name": "stdout",
          "text": [
            "\n",
            "Best Model: Random Forest with F1 Score: 0.9516908212560387\n"
          ]
        }
      ]
    },
    {
      "cell_type": "code",
      "source": [
        "\n",
        "import joblib\n",
        "\n",
        "\n",
        "joblib.dump(best_model, 'best_model.pkl')\n",
        "\n",
        "\n",
        "np.save('random_seed.npy', random_seed)\n",
        "\n"
      ],
      "metadata": {
        "id": "iPIRSCNSI9Ru"
      },
      "execution_count": 7,
      "outputs": []
    },
    {
      "cell_type": "code",
      "source": [
        "\n",
        "new_data = {\n",
        "    'Vehicle_Type': 'Car',\n",
        "    'Lane_Type': 'Normal',\n",
        "    'Vehicle_Dimensions': 3.0,\n",
        "    'Transaction_Amount': 150.0,\n",
        "    'Amount_paid': 150.0,\n",
        "    'Geographical_Location': 'Location1',\n",
        "    'Vehicle_Speed': 60.0,\n",
        "    'Vehicle_Plate_Number': 'ABC1234'\n",
        "}\n",
        "\n",
        "\n",
        "new_data_df = pd.DataFrame([new_data])\n",
        "\n",
        "\n",
        "prediction = best_model.predict(new_data_df)\n",
        "print(f'\\nPrediction for new data using {best_model_name}:')\n",
        "print('Fraudulent Transaction' if prediction[0] == 'Fraud' else 'Non-Fraudulent Transaction')"
      ],
      "metadata": {
        "colab": {
          "base_uri": "https://localhost:8080/"
        },
        "id": "451sLDjqHvku",
        "outputId": "996aee74-3bb1-41fe-cd7e-3923fd6cb964"
      },
      "execution_count": 8,
      "outputs": [
        {
          "output_type": "stream",
          "name": "stdout",
          "text": [
            "\n",
            "Prediction for new data using Random Forest:\n",
            "Non-Fraudulent Transaction\n"
          ]
        }
      ]
    }
  ]
}